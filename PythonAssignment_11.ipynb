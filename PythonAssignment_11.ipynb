{
 "cells": [
  {
   "cell_type": "code",
   "execution_count": 4,
   "metadata": {},
   "outputs": [
    {
     "name": "stdout",
     "output_type": "stream",
     "text": [
      "1\n",
      "1\n",
      "2\n",
      "3\n",
      "5\n",
      "8\n"
     ]
    }
   ],
   "source": [
    "def  fibonacci(sinir):\n",
    "    sayi1=0\n",
    "    sayi2=1\n",
    "\n",
    "    print(sayi2)\n",
    "    for i in range(sinir-2):\n",
    "        sayi3=sayi1+sayi2\n",
    "        print(sayi3)\n",
    "        sayi1=sayi2\n",
    "        sayi2=sayi3\n",
    "sinir=int(input(\"lütfen sayı giriniz\"))\n",
    "fibonacci(sinir)"
   ]
  },
  {
   "cell_type": "code",
   "execution_count": 13,
   "metadata": {},
   "outputs": [
    {
     "name": "stdout",
     "output_type": "stream",
     "text": [
      "1\n",
      "1\n",
      "2\n",
      "3\n",
      "5\n",
      "8\n",
      "13\n",
      "21\n",
      "34\n",
      "55\n"
     ]
    }
   ],
   "source": [
    "sayi1=1\n",
    "sayi2=1\n",
    "sayi3=0\n",
    "\n",
    "while (sayi1<56):\n",
    "    print(sayi1)\n",
    "    sayi3=sayi1+sayi2\n",
    "    sayi1,sayi2 = sayi2,sayi3\n",
    "\n"
   ]
  }
 ],
 "metadata": {
  "interpreter": {
   "hash": "9e420b6fa3fd7b9b81ddbcd254cb3b74e9e7beae700425c33bc97f90b494e529"
  },
  "kernelspec": {
   "display_name": "Python 3.9.2 64-bit",
   "language": "python",
   "name": "python3"
  },
  "language_info": {
   "codemirror_mode": {
    "name": "ipython",
    "version": 3
   },
   "file_extension": ".py",
   "mimetype": "text/x-python",
   "name": "python",
   "nbconvert_exporter": "python",
   "pygments_lexer": "ipython3",
   "version": "3.9.2"
  },
  "orig_nbformat": 4
 },
 "nbformat": 4,
 "nbformat_minor": 2
}
