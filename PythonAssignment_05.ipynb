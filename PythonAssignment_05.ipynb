{
 "cells": [
  {
   "cell_type": "code",
   "execution_count": null,
   "id": "ff7572e2",
   "metadata": {},
   "outputs": [],
   "source": [
    "left = [\"q\", \"w\", \"e\", \"r\", \"t\", \"a\", \"s\", \"d\", \"f\", \"g\", \"z\", \"x\", \"c\",\"v\", \"b\"]\n",
    "right= [\"y\", \"u\", \"i\", \"o\", \"p\", \"h\", \"j\", \"k\",\"l\", \"n\", \"m\"]\n",
    "\n",
    "word = list(input(\"Bir Kelime Giriniz: \"))\n",
    "\n",
    "check =[]\n",
    "\n",
    "for i in word:\n",
    "    for j in left:\n",
    "        for k in right:\n",
    "            \n",
    "   \n",
    " \n",
    "\n",
    " \n",
    "        "
   ]
  },
  {
   "cell_type": "code",
   "execution_count": null,
   "id": "f0a10f95",
   "metadata": {},
   "outputs": [],
   "source": [
    "Left: q, w, e, r, t, a, s, d, f, g, z, x, c, v, b\n",
    "Right: y, u, i, o, p, h, j, k, l, n, m"
   ]
  },
  {
   "cell_type": "code",
   "execution_count": null,
   "id": "2500a808",
   "metadata": {},
   "outputs": [],
   "source": [
    "   if j in left and k not in right:\n",
    "        check.append(i)\n",
    "        print(check, False)\n",
    "        break\n",
    "    elif i in right and i not in left:\n",
    "        check.append(i)\n",
    "        print(check, False)\n",
    "        break\n",
    "    else:\n",
    "        print(True)"
   ]
  }
 ],
 "metadata": {
  "kernelspec": {
   "display_name": "Python 3 (ipykernel)",
   "language": "python",
   "name": "python3"
  },
  "language_info": {
   "codemirror_mode": {
    "name": "ipython",
    "version": 3
   },
   "file_extension": ".py",
   "mimetype": "text/x-python",
   "name": "python",
   "nbconvert_exporter": "python",
   "pygments_lexer": "ipython3",
   "version": "3.9.2"
  }
 },
 "nbformat": 4,
 "nbformat_minor": 5
}
