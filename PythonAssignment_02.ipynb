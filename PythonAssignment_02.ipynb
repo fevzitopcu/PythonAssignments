{
 "cells": [
  {
   "cell_type": "markdown",
   "id": "c2b931ac",
   "metadata": {},
   "source": [
    "Task-1:\n",
    "\n",
    "Write a short Python program that asks the user to enter Celsius temperature (it can be a decimal number), converts the entered temperature into Fahrenheit degree and prints the result.\n"
   ]
  },
  {
   "cell_type": "code",
   "execution_count": 1,
   "id": "83d42598",
   "metadata": {},
   "outputs": [
    {
     "name": "stdout",
     "output_type": "stream",
     "text": [
      "Enter temperature in degrees Celsius: 32\n",
      "32.0 C degree is equal to 89.6 Fahrenheit degree \n"
     ]
    }
   ],
   "source": [
    "temp_Celcius = float(input(\"Enter temperature in degrees Celsius: \"))\n",
    "temp_Fahrenheit = 1.8 * temp_Celcius + 32\n",
    "\n",
    "print(f\"{temp_Celcius} C degree is equal to {temp_Fahrenheit} Fahrenheit degree \")\n",
    "\n"
   ]
  },
  {
   "cell_type": "markdown",
   "id": "b9b042c8",
   "metadata": {},
   "source": [
    "\n",
    "Task-2:\n",
    "Write a short Python program that asks the user to enter a distance (it can be a decimal number) in kilometers, converts the entered distance into miles and prints the result.\n"
   ]
  },
  {
   "cell_type": "code",
   "execution_count": 3,
   "id": "c051bf9c",
   "metadata": {},
   "outputs": [
    {
     "name": "stdout",
     "output_type": "stream",
     "text": [
      "Enter the distance in kilometers: 20\n",
      "20.0 km is equal to 12.42742384 mile.\n"
     ]
    }
   ],
   "source": [
    "distance_km = float(input(\"Enter the distance in kilometers: \"))\n",
    "distance_mile = 0.621371192 * distance_km\n",
    "\n",
    "print(f\"{distance_km} km is equal to {distance_mile} mile.\")\n"
   ]
  },
  {
   "cell_type": "code",
   "execution_count": null,
   "id": "b85bb889",
   "metadata": {},
   "outputs": [],
   "source": []
  }
 ],
 "metadata": {
  "kernelspec": {
   "display_name": "Python 3 (ipykernel)",
   "language": "python",
   "name": "python3"
  },
  "language_info": {
   "codemirror_mode": {
    "name": "ipython",
    "version": 3
   },
   "file_extension": ".py",
   "mimetype": "text/x-python",
   "name": "python",
   "nbconvert_exporter": "python",
   "pygments_lexer": "ipython3",
   "version": "3.9.2"
  }
 },
 "nbformat": 4,
 "nbformat_minor": 5
}
