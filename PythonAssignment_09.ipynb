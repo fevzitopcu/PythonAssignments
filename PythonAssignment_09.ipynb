{
 "cells": [
  {
   "cell_type": "code",
   "execution_count": 13,
   "metadata": {},
   "outputs": [
    {
     "name": "stdout",
     "output_type": "stream",
     "text": [
      "371 is an amstrog number\n"
     ]
    }
   ],
   "source": [
    "# Armsrong Number\n",
    "while True:\n",
    "    number = input(\"enter a positive integer number: \")\n",
    "    check= 0\n",
    "\n",
    "    if not number.isdigit():\n",
    "        print(\"Enter valid input\")\n",
    "    elif int(number)>=0:\n",
    "        for i in range(len(number)):\n",
    "            check = check + int(number[i])**len(number)\n",
    "        \n",
    "            if int(number) == check:\n",
    "                print(number, \"is an amstrog number\")\n",
    "    break\n",
    "\n",
    "    "
   ]
  },
  {
   "cell_type": "code",
   "execution_count": null,
   "metadata": {},
   "outputs": [],
   "source": [
    "number = int(input(\"enter the number: \"))"
   ]
  }
 ],
 "metadata": {
  "interpreter": {
   "hash": "9e420b6fa3fd7b9b81ddbcd254cb3b74e9e7beae700425c33bc97f90b494e529"
  },
  "kernelspec": {
   "display_name": "Python 3.9.2 64-bit",
   "language": "python",
   "name": "python3"
  },
  "language_info": {
   "codemirror_mode": {
    "name": "ipython",
    "version": 3
   },
   "file_extension": ".py",
   "mimetype": "text/x-python",
   "name": "python",
   "nbconvert_exporter": "python",
   "pygments_lexer": "ipython3",
   "version": "3.9.2"
  },
  "orig_nbformat": 4
 },
 "nbformat": 4,
 "nbformat_minor": 2
}
