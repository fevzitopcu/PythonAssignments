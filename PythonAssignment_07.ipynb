{
 "cells": [
  {
   "cell_type": "markdown",
   "metadata": {},
   "source": [
    "Problem :\n",
    "\n",
    "Task : Estimating the risk of death from coronavirus. Write a program that;\n",
    "\n",
    "Takes \"Yes\" or \"No\" from the user as an answer to the following questions :\n",
    "\n",
    "Are you a cigarette addict older than 75 years old? Variable → age\n",
    "\n",
    "Do you have a severe chronic disease? Variable → chronic\n",
    "\n",
    "Is your immune system too weak? Variable → immune\n",
    "\n",
    "Set a logical algorithm using boolean logic operators (and/or) and use if-statements with the given variables in order to print out us a message : \"You are in risky group\"(if True ) or \"You are not in risky group\" (if False)."
   ]
  },
  {
   "cell_type": "code",
   "execution_count": 5,
   "metadata": {},
   "outputs": [
    {
     "name": "stdout",
     "output_type": "stream",
     "text": [
      "You are in risky group\n"
     ]
    }
   ],
   "source": [
    "age = input(\"Are you a cigarette addict older than 75 years old (yes or no)\").upper()\n",
    "chronic = input(\"Do you have a severe chronic disease (yes or no)\").upper()\n",
    "immune = input(\"Is your immune system too weak (yes or no)\").upper()\n",
    "\n",
    "risk = age.startswith(\"Y\") or chronic.startswith(\"Y\") or immune.startswith(\"Y\")\n",
    "\n",
    "if risk:\n",
    "    print(\"You are in risky group\")\n",
    "else:\n",
    "    print(\"You are not in risky group\")"
   ]
  }
 ],
 "metadata": {
  "interpreter": {
   "hash": "9e420b6fa3fd7b9b81ddbcd254cb3b74e9e7beae700425c33bc97f90b494e529"
  },
  "kernelspec": {
   "display_name": "Python 3.9.2 64-bit",
   "language": "python",
   "name": "python3"
  },
  "language_info": {
   "codemirror_mode": {
    "name": "ipython",
    "version": 3
   },
   "file_extension": ".py",
   "mimetype": "text/x-python",
   "name": "python",
   "nbconvert_exporter": "python",
   "pygments_lexer": "ipython3",
   "version": "3.9.2"
  },
  "orig_nbformat": 4
 },
 "nbformat": 4,
 "nbformat_minor": 2
}
