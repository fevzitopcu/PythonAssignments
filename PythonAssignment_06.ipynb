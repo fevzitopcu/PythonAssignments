{
 "cells": [
  {
   "cell_type": "markdown",
   "metadata": {},
   "source": [
    "Write your Python codes on any IDE, push it up to your GitHub repository and submit your GitHub Page link address in addition to your code as a plain text.\n",
    "\n",
    "Task : Let's say; you left a message in the past that prints a password you need. To see the password you wrote, you need to enter your name and the program should recognize you.\n",
    "Write a program that \n",
    "\n",
    "1-Takes the first name from the user and compares it to yours,\n",
    "\n",
    "2-Then if the name the user entered is the same as yours, print out such as : \"Hello, Joseph! The password is : W@12\",\n",
    "\n",
    "3-If the name the user entered is not the same as yours, print out such as : \"Hello, Amina! See you later.\""
   ]
  },
  {
   "cell_type": "code",
   "execution_count": 3,
   "metadata": {},
   "outputs": [
    {
     "name": "stdout",
     "output_type": "stream",
     "text": [
      "Hello Ali! See you later\n"
     ]
    }
   ],
   "source": [
    "name = \"Fevzi\"\n",
    "password = \"1234\"\n",
    "\n",
    "entered_name = input(\"Enter your name: \").strip().title()\n",
    "\n",
    "if entered_name == name:\n",
    "    print(f\"Hello {entered_name}! The password is {password}\")\n",
    "else:\n",
    "    print(f\"Hello {entered_name}! See you later\")"
   ]
  }
 ],
 "metadata": {
  "interpreter": {
   "hash": "9e420b6fa3fd7b9b81ddbcd254cb3b74e9e7beae700425c33bc97f90b494e529"
  },
  "kernelspec": {
   "display_name": "Python 3.9.2 64-bit",
   "language": "python",
   "name": "python3"
  },
  "language_info": {
   "codemirror_mode": {
    "name": "ipython",
    "version": 3
   },
   "file_extension": ".py",
   "mimetype": "text/x-python",
   "name": "python",
   "nbconvert_exporter": "python",
   "pygments_lexer": "ipython3",
   "version": "3.9.2"
  },
  "orig_nbformat": 4
 },
 "nbformat": 4,
 "nbformat_minor": 2
}
