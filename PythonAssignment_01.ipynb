{
 "cells": [
  {
   "cell_type": "code",
   "execution_count": 26,
   "id": "22ff9247",
   "metadata": {},
   "outputs": [
    {
     "name": "stdout",
     "output_type": "stream",
     "text": [
      "1. Gün Toplam:  1070.0\n",
      "2. Gün Toplam:  1144.9\n",
      "3. Gün Toplam:  1225.0430000000001\n",
      "4. Gün Toplam:  1310.79601\n",
      "5. Gün Toplam:  1402.5517307\n",
      "6. Gün Toplam:  1500.730351849\n",
      "7. Gün Toplam:  1605.78147647843\n"
     ]
    }
   ],
   "source": [
    "anaPara = 1000.0\n",
    "kar = 0.07\n",
    "zaman= 7\n",
    "\n",
    "\n",
    "anaPara += anaPara*kar\n",
    "print('1. Gün Toplam: ' , anaPara)\n",
    "anaPara += anaPara*kar\n",
    "print('2. Gün Toplam: ' , anaPara)\n",
    "anaPara += anaPara*kar\n",
    "print('3. Gün Toplam: ' , anaPara)\n",
    "anaPara += anaPara*kar\n",
    "print('4. Gün Toplam: ' , anaPara)\n",
    "anaPara += anaPara*kar\n",
    "print('5. Gün Toplam: ' , anaPara)\n",
    "anaPara += anaPara*kar\n",
    "print('6. Gün Toplam: ' , anaPara)\n",
    "anaPara += anaPara*kar\n",
    "print('7. Gün Toplam: ' , anaPara)\n"
   ]
  },
  {
   "cell_type": "code",
   "execution_count": 1,
   "id": "3700c6cd",
   "metadata": {},
   "outputs": [
    {
     "name": "stdout",
     "output_type": "stream",
     "text": [
      "1 . Gün Toplam:  1070.0\n",
      "2 . Gün Toplam:  1144.9\n",
      "3 . Gün Toplam:  1225.0430000000001\n",
      "4 . Gün Toplam:  1310.79601\n",
      "5 . Gün Toplam:  1402.5517307\n",
      "6 . Gün Toplam:  1500.730351849\n",
      "7 . Gün Toplam:  1605.78147647843\n"
     ]
    }
   ],
   "source": [
    "anaPara = 1000.0\n",
    "kar = 0.07\n",
    "zaman= 1\n",
    "\n",
    "while zaman<=7:\n",
    "    anaPara = anaPara + anaPara*kar\n",
    "    print(zaman,'. Gün Toplam: ', anaPara)\n",
    "    zaman+=1\n",
    "    "
   ]
  },
  {
   "cell_type": "code",
   "execution_count": 10,
   "id": "eb29742f",
   "metadata": {},
   "outputs": [
    {
     "name": "stdout",
     "output_type": "stream",
     "text": [
      "1605.7814764784307\n"
     ]
    }
   ],
   "source": [
    "anaPara = 1000.0\n",
    "kar =0.07\n",
    "zaman= 7\n",
    "anaPara = anaPara*(1+ kar)**zaman\n",
    "print(anaPara)"
   ]
  },
  {
   "cell_type": "code",
   "execution_count": null,
   "id": "9d0ed37f",
   "metadata": {},
   "outputs": [],
   "source": []
  }
 ],
 "metadata": {
  "interpreter": {
   "hash": "9e420b6fa3fd7b9b81ddbcd254cb3b74e9e7beae700425c33bc97f90b494e529"
  },
  "kernelspec": {
   "display_name": "Python 3.9.2 64-bit",
   "name": "python3"
  },
  "language_info": {
   "codemirror_mode": {
    "name": "ipython",
    "version": 3
   },
   "file_extension": ".py",
   "mimetype": "text/x-python",
   "name": "python",
   "nbconvert_exporter": "python",
   "pygments_lexer": "ipython3",
   "version": "3.9.2"
  }
 },
 "nbformat": 4,
 "nbformat_minor": 5
}
