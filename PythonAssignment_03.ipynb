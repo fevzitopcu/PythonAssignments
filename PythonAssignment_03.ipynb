{
 "cells": [
  {
   "cell_type": "markdown",
   "id": "debd39e7",
   "metadata": {},
   "source": [
    "Problem :\n",
    "\n",
    "Task : Estimating the risk of death from coronavirus.\n",
    "\n",
    "Consider the following questions in terms of True/False regarding anyone else.\n",
    "\n",
    "Are you a cigarette addict older than 75 years old? Variable → age\n",
    "\n",
    "Do you have a severe chronic disease? Variable → chronic\n",
    "\n",
    "Is your immune system too weak? Variable → immune\n",
    "\n",
    "Set a logical algorithm using boolean logic operators (and/or) and the given variables in order to give us True (there is a risk of death) or False (there is not a risk of death) as a result.\n",
    "\n",
    "age =  # can be assigned only True/False\n",
    "chronic =  # can be assigned only True/False\n",
    "immune =  # can be assigned only True/False\n",
    "risk = ? (True or False)"
   ]
  },
  {
   "cell_type": "code",
   "execution_count": 10,
   "id": "f5f7ab98",
   "metadata": {},
   "outputs": [
    {
     "name": "stdout",
     "output_type": "stream",
     "text": [
      "Are you a cigarette addict older than 75 years old?(Enter the Answer: 1-(True) or 0-(False)):1\n",
      "Do you have a severe chronic disease?(Enter the Answer: 1-(True) or 0-(False)):1\n",
      "Is your immune system too weak?(Enter the Answer: 1-(True) or 0-(False)):0\n",
      "True\n",
      "True\n",
      "False\n",
      "There is NOT a risk of death\n"
     ]
    }
   ],
   "source": [
    "age = ((int(input(\"Are you a cigarette addict older than 75 years old?(Enter the Answer: 1-(True) or 0-(False)):\"))>0) or False)\n",
    "chronic = ((int(input(\"Do you have a severe chronic disease?(Enter the Answer: 1-(True) or 0-(False)):\"))>0) or False)\n",
    "immune = ((int(input(\"Is your immune system too weak?(Enter the Answer: 1-(True) or 0-(False)):\"))>0) or False)\n",
    "\n",
    "print(age)\n",
    "print(chronic)\n",
    "print(immune)\n",
    "\n",
    "risk = immune and (age or chronic)\n",
    "\n",
    "print((risk and \"There is a risk of death\") or (\"There is NOT a risk of death\"))"
   ]
  },
  {
   "cell_type": "code",
   "execution_count": 12,
   "id": "77febf4e",
   "metadata": {},
   "outputs": [
    {
     "name": "stdout",
     "output_type": "stream",
     "text": [
      "True\n",
      "Yaşınızı Giriniz :78\n",
      "Kronik Rahatsızlığınız Var mı?(E/H:E\n",
      "Bağışıklığınız Kuvvetli mi?(E/H)H\n",
      "Sigara Kullanıyor musunuz?(E/H)H\n",
      "Risk grubundasınız!\n"
     ]
    }
   ],
   "source": [
    "age = True\n",
    "chronic = True\n",
    "immune = True\n",
    "risk = age or chronic or immune\n",
    "print(risk)\n",
    "\n",
    "# Alternatif grup çalışmasında çıkan çözüm\n",
    "\n",
    "age = input(\"Yaşınızı Giriniz :\")\n",
    "chronic = input(\"Kronik Rahatsızlığınız Var mı?(E/H:\")\n",
    "immune = input(\"Bağışıklığınız Kuvvetli mi?(E/H)\")\n",
    "cigarette = input(\"Sigara Kullanıyor musunuz?(E/H)\")\n",
    "\n",
    "if int(age) >= 75 or cigarette.startswith(\"E\") or immune.startswith(\"H\") or chronic.startswith(\"E\") :\n",
    "  print(\"Risk grubundasınız!\")\n",
    "else :\n",
    "  print(\"Risk grubunda değilsiniz!\")"
   ]
  },
  {
   "cell_type": "code",
   "execution_count": 9,
   "id": "9bb967c8",
   "metadata": {},
   "outputs": [
    {
     "name": "stdout",
     "output_type": "stream",
     "text": [
      "False\n",
      "There is a risk of death\n"
     ]
    }
   ],
   "source": [
    "cigarette = True\n",
    "age = False\n",
    "chronic = True\n",
    "immune = True\n",
    "\n",
    "risk = immune and (cigarette or age or chronic)\n",
    "\n",
    "print((risk and \"There is a risk of death\") or (\"There is NOT a risk of death\"))"
   ]
  },
  {
   "cell_type": "code",
   "execution_count": 12,
   "id": "3245763b",
   "metadata": {},
   "outputs": [
    {
     "name": "stdout",
     "output_type": "stream",
     "text": [
      "There is NOT a risk of death\n"
     ]
    }
   ],
   "source": [
    "\n",
    "age = True\n",
    "chronic = True\n",
    "immune = False\n",
    "\n",
    "risk = immune and (age or chronic)\n",
    "\n",
    "print((risk and \"There is a risk of death\") or (\"There is NOT a risk of death\"))"
   ]
  },
  {
   "cell_type": "code",
   "execution_count": null,
   "id": "e3e212a6",
   "metadata": {},
   "outputs": [],
   "source": []
  }
 ],
 "metadata": {
  "kernelspec": {
   "display_name": "Python 3 (ipykernel)",
   "language": "python",
   "name": "python3"
  },
  "language_info": {
   "codemirror_mode": {
    "name": "ipython",
    "version": 3
   },
   "file_extension": ".py",
   "mimetype": "text/x-python",
   "name": "python",
   "nbconvert_exporter": "python",
   "pygments_lexer": "ipython3",
   "version": "3.9.2"
  }
 },
 "nbformat": 4,
 "nbformat_minor": 5
}
