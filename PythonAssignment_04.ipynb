{
 "cells": [
  {
   "cell_type": "code",
   "execution_count": 14,
   "id": "e469058c",
   "metadata": {},
   "outputs": [
    {
     "name": "stdout",
     "output_type": "stream",
     "text": [
      "4\n",
      "1 1\n",
      "3 4\n",
      "7 1\n",
      "4 1\n",
      "3 4\n",
      "0 1\n",
      "3 4\n",
      "6 1\n",
      "3 4\n"
     ]
    }
   ],
   "source": [
    "numbers = [1, 3, 7, 4, 3, 0, 3, 6, 3]\n",
    "\n",
    "liste1 = numbers.split()\n",
    "\n",
    "liste2 = []\n",
    "\n",
    "for xa in listemizi:\n",
    "\n",
    "    say = numberscount(xa)\n",
    "\n",
    "    if (say == 2):\n",
    "        liste2.append(xa)\n",
    "\n",
    "print(liste2)\n",
    "\n",
    "\n",
    "\n",
    "\n"
   ]
  },
  {
   "cell_type": "code",
   "execution_count": 32,
   "id": "914122bd",
   "metadata": {},
   "outputs": [
    {
     "ename": "IndentationError",
     "evalue": "expected an indented block (Temp/ipykernel_23132/1057808716.py, line 6)",
     "output_type": "error",
     "traceback": [
      "\u001b[1;36m  File \u001b[1;32m\"C:\\Users\\Lost\\AppData\\Local\\Temp/ipykernel_23132/1057808716.py\"\u001b[1;36m, line \u001b[1;32m6\u001b[0m\n\u001b[1;33m    print(i, count, \"defa yazılmış\")\u001b[0m\n\u001b[1;37m    ^\u001b[0m\n\u001b[1;31mIndentationError\u001b[0m\u001b[1;31m:\u001b[0m expected an indented block\n"
     ]
    }
   ],
   "source": [
    "numbers = [1, 3, 7, 4, 3, 0, 3, 6, 3]\n",
    "\n",
    "for i in numbers:\n",
    "    count = numbers.count(i)\n",
    "    if count>1:\n",
    "    print(i, count, \"defa yazılmış\")\n",
    "       "
   ]
  },
  {
   "cell_type": "code",
   "execution_count": 34,
   "id": "2925d02e",
   "metadata": {},
   "outputs": [
    {
     "name": "stdout",
     "output_type": "stream",
     "text": [
      "the most frequent number is 3 and it was 4 times repeated\n"
     ]
    }
   ],
   "source": [
    "numbers = [1, 3, 7, 4, 3, 0, 3, 6, 3]\n",
    "a = max(numbers, key = numbers.count)\n",
    "b = numbers.count(max(numbers, key = numbers.count))\n",
    "print(\"the most frequent number is {} and it was {} times repeated\".format(a,b))\n"
   ]
  },
  {
   "cell_type": "code",
   "execution_count": 38,
   "id": "05537f2c",
   "metadata": {},
   "outputs": [
    {
     "name": "stdout",
     "output_type": "stream",
     "text": [
      "1\n"
     ]
    }
   ],
   "source": [
    "numbers = [1, 3, 7, 4, 3, 0, 3, 6, 3]\n",
    "a = max(numbers, key = numbers.count)\n",
    "c = min(numbers, key = numbers.count)\n",
    "b = numbers.count(max(numbers, key = numbers.count))\n",
    "print(c)\n",
    "\n",
    "d = max"
   ]
  },
  {
   "cell_type": "code",
   "execution_count": null,
   "id": "d7b3105f",
   "metadata": {},
   "outputs": [],
   "source": []
  }
 ],
 "metadata": {
  "kernelspec": {
   "display_name": "Python 3 (ipykernel)",
   "language": "python",
   "name": "python3"
  },
  "language_info": {
   "codemirror_mode": {
    "name": "ipython",
    "version": 3
   },
   "file_extension": ".py",
   "mimetype": "text/x-python",
   "name": "python",
   "nbconvert_exporter": "python",
   "pygments_lexer": "ipython3",
   "version": "3.9.2"
  }
 },
 "nbformat": 4,
 "nbformat_minor": 5
}
